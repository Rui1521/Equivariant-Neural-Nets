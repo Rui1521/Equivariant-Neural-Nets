{
 "cells": [
  {
   "cell_type": "code",
   "execution_count": 2,
   "metadata": {},
   "outputs": [
    {
     "name": "stdout",
     "output_type": "stream",
     "text": [
      "0.0047398763530927986\n"
     ]
    }
   ],
   "source": [
    "import torch\n",
    "import numpy as np\n",
    "es = np.load('diagnostics/iter_0001_pos_0_0_1_energy_spectrum.npz')\n",
    "print(np.sqrt(np.mean((es['net_e'] - es['true_e'])**2)))"
   ]
  },
  {
   "cell_type": "code",
   "execution_count": null,
   "metadata": {},
   "outputs": [],
   "source": []
  }
 ],
 "metadata": {
  "kernelspec": {
   "display_name": "E2CNN",
   "language": "python",
   "name": "e2cnn"
  },
  "language_info": {
   "codemirror_mode": {
    "name": "ipython",
    "version": 3
   },
   "file_extension": ".py",
   "mimetype": "text/x-python",
   "name": "python",
   "nbconvert_exporter": "python",
   "pygments_lexer": "ipython3",
   "version": "3.7.7"
  }
 },
 "nbformat": 4,
 "nbformat_minor": 4
}
